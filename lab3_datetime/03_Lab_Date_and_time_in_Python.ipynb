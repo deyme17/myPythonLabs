{
 "cells": [
  {
   "cell_type": "markdown",
   "id": "3852ed20-38c9-4b0b-8237-98c42f83d3b6",
   "metadata": {},
   "source": [
    "# Mastering Date and Time Manipulations in Python\n"
   ]
  },
  {
   "cell_type": "code",
   "execution_count": 11,
   "id": "52af5bf6-9263-49da-8bdf-373045c6de1d",
   "metadata": {},
   "outputs": [],
   "source": [
    "import datetime as dt"
   ]
  },
  {
   "cell_type": "markdown",
   "id": "8c5b0803-300a-46d3-a726-7c8167d958d3",
   "metadata": {},
   "source": [
    "# Task 1: Basic Date and Time Manipulations\n"
   ]
  },
  {
   "cell_type": "code",
   "execution_count": 12,
   "id": "c98f5e63-fccf-4cb8-bd5f-1f29ebdee812",
   "metadata": {},
   "outputs": [
    {
     "name": "stdout",
     "output_type": "stream",
     "text": [
      "Current date: 2024-09-23\n",
      "Current time: 13:23:51.217365\n"
     ]
    }
   ],
   "source": [
    "# TODO: Displays the current date and time.\n",
    "curr_datetime = dt.datetime.now()\n",
    "\n",
    "curr_date = curr_datetime.date()\n",
    "curr_time = curr_datetime.time()\n",
    "\n",
    "print(f'Current date: {curr_date}')\n",
    "print(f'Current time: {curr_time}')"
   ]
  },
  {
   "cell_type": "code",
   "execution_count": 13,
   "id": "5c83b456-5309-4af3-a4ea-f54e362e72cb",
   "metadata": {},
   "outputs": [
    {
     "name": "stdout",
     "output_type": "stream",
     "text": [
      "Current datetime: 9\n"
     ]
    }
   ],
   "source": [
    "# TODO: Extracts and prints the current year, month, day, hour, minute, and second.\n",
    "curr_datetime = dt.datetime.now()\n",
    "print(f'Current datetime: {curr_datetime.month}')"
   ]
  },
  {
   "cell_type": "code",
   "execution_count": 14,
   "id": "2a9ac73e-59f6-4d32-8b5c-9f0e007aea82",
   "metadata": {},
   "outputs": [
    {
     "name": "stdout",
     "output_type": "stream",
     "text": [
      "2024-10-03\n"
     ]
    }
   ],
   "source": [
    "# TODO: Adds 10 days to the current date and displays the new date.\n",
    "tenth_day_aftet_today = curr_date + dt.timedelta(days=10)\n",
    "print(tenth_day_aftet_today)"
   ]
  },
  {
   "cell_type": "code",
   "execution_count": 15,
   "id": "f9e9eaaa-d0b3-41f6-9182-096fbe1d8a17",
   "metadata": {},
   "outputs": [
    {
     "name": "stdout",
     "output_type": "stream",
     "text": [
      "08:23:51.225948\n"
     ]
    }
   ],
   "source": [
    "# TODO: Subtracts 5 hours from the current time and displays the resulting time.\n",
    "time_5h_before = curr_datetime - dt.timedelta(hours=5)\n",
    "print(time_5h_before.time())"
   ]
  },
  {
   "cell_type": "markdown",
   "id": "6f2f6601-963d-4f19-b285-64ce51ddc9b2",
   "metadata": {},
   "source": [
    "# Task 2: String Formatting and Parsing Dates\n",
    "Write a program that:\n",
    "1. Takes a user-inputted date in the format \"DD/MM/YYYY\".\n",
    "2. Converts this string into a datetime object using strptime().\n",
    "3. Outputs the date in the following formats:\n",
    "- \"YYYY-MM-DD\" (ISO format)\n",
    "- \"Month Day, Year\" (e.g., \"September 13, 2024\")\n",
    "- \"Day-Month-Year\" (e.g., \"13-09-2024\")\n"
   ]
  },
  {
   "cell_type": "code",
   "execution_count": 16,
   "id": "24185e85-dfac-46e9-8e35-443dafd01f2d",
   "metadata": {},
   "outputs": [
    {
     "data": {
      "text/plain": [
       "'19/02/2006'"
      ]
     },
     "execution_count": 16,
     "metadata": {},
     "output_type": "execute_result"
    }
   ],
   "source": [
    "from datetime import datetime\n",
    "\n",
    "# Input date in \"DD/MM/YYYY\" format\n",
    "date_str = input(\"Enter the date (DD/MM/YYYY): \")\n",
    "date_str"
   ]
  },
  {
   "cell_type": "code",
   "execution_count": 17,
   "id": "5a90ddc4-d907-4b52-8281-01d417954f11",
   "metadata": {},
   "outputs": [
    {
     "name": "stdout",
     "output_type": "stream",
     "text": [
      "ISO format (YYYY-MM-DD): 2006-02-19\n",
      "Long format (Month Day, Year): February 19, 2006\n",
      "Day-Month-Year format: 19-02-2006\n"
     ]
    }
   ],
   "source": [
    "# TODO: Converts this string into a datetime object using strptime().\n",
    "date_obj = datetime.strptime(date_str, \"%d/%m/%Y\")\n",
    "\n",
    "# TODO: Format and display the date in various formats (use strftime)\n",
    "\n",
    "print(\"ISO format (YYYY-MM-DD):\", date_obj.strftime('%Y-%m-%d'))\n",
    "print(\"Long format (Month Day, Year):\", date_obj.strftime('%B %d, %Y'))\n",
    "print(\"Day-Month-Year format:\", date_obj.strftime('%d-%m-%Y'))"
   ]
  },
  {
   "cell_type": "markdown",
   "id": "e2ca66d8-dd2a-41b2-b56f-ab9310289902",
   "metadata": {},
   "source": [
    "# Task 3: Calculating Age\n",
    "\n",
    "Write a script that:\n",
    "1. Takes a user’s date of birth as input (format: \"YYYY-MM-DD\").\n",
    "2. Calculates their age in years, months, and days.\n",
    "3. Prints the age in the format: \"You are X years, Y months, and Z days old.\"\n",
    "\n",
    "Hints: Use relativedelta from the dateutil package to calculate the difference between two dates.\n"
   ]
  },
  {
   "cell_type": "code",
   "execution_count": 18,
   "id": "d133ff6a-9387-4f39-bd0e-c3dfcf8e8c5a",
   "metadata": {},
   "outputs": [],
   "source": [
    "from datetime import datetime\n",
    "from dateutil.relativedelta import relativedelta\n",
    "\n",
    "# TODO: Input date of birth in \"YYYY-MM-DD\" format\n",
    "dob_str = input(\"Enter your date of birth (YYYY-MM-DD): \")\n",
    "dob = datetime.strptime(dob_str, \"%Y-%m-%d\")"
   ]
  },
  {
   "cell_type": "code",
   "execution_count": 19,
   "id": "2408d314-862e-431b-ae26-d29286774958",
   "metadata": {},
   "outputs": [
    {
     "name": "stdout",
     "output_type": "stream",
     "text": [
      "You are 18 years, 7 months, and 4 days old.\n"
     ]
    }
   ],
   "source": [
    "# TODO: Calculate the age using relativedelta\n",
    "now = datetime.now()\n",
    "age = relativedelta(now, dob)\n",
    "\n",
    "# Display the age\n",
    "print(f\"You are {age.years} years, {age.months} months, and {age.days} days old.\")"
   ]
  },
  {
   "cell_type": "markdown",
   "id": "f94ad697-b3be-4396-92de-28b5793c7583",
   "metadata": {},
   "source": [
    "# Assignment 4: Working with Time Zones\n",
    "Write a script that:\n",
    "1. Displays the current local date and time.\n",
    "2. Converts this local time into two different time zones (e.g., \"America/New_York\" and \"Asia/Tokyo\").\n",
    "3. Prints the converted times along with their respective time zones.\n",
    "\n",
    "Requirements: Use dateutil.tz to work with time zones."
   ]
  },
  {
   "cell_type": "code",
   "execution_count": 20,
   "id": "3d05f9a0-2c9d-46b3-8209-b533247b74e2",
   "metadata": {},
   "outputs": [
    {
     "name": "stdout",
     "output_type": "stream",
     "text": [
      "Current local time: 13:24:10.783804\n"
     ]
    }
   ],
   "source": [
    "from datetime import datetime\n",
    "from dateutil import tz\n",
    "\n",
    "# TODO: Get the local time zone\n",
    "local_tz = datetime.now(tz=tz.tzlocal())\n",
    "local_time = datetime.time(local_tz)\n",
    "print(\"Current local time:\", local_time)\n"
   ]
  },
  {
   "cell_type": "code",
   "execution_count": 21,
   "id": "36ea2438-db1f-45cc-b9f3-1d8f82c78689",
   "metadata": {},
   "outputs": [
    {
     "name": "stdout",
     "output_type": "stream",
     "text": [
      "Current time in New York: 2024-09-23 06:24:10.887656-04:00\n"
     ]
    }
   ],
   "source": [
    "# TODO: Get time for a specific time zone (e.g., New York)\n",
    "ny_tz = tz.gettz('America/New_York')\n",
    "ny_time = datetime.now(ny_tz)\n",
    "print(\"Current time in New York:\", ny_time)"
   ]
  },
  {
   "cell_type": "code",
   "execution_count": 22,
   "id": "f637720c-3bd2-4705-95df-5322fcb585d3",
   "metadata": {},
   "outputs": [
    {
     "name": "stdout",
     "output_type": "stream",
     "text": [
      "Current time in Tokyo: 2024-09-23 19:24:10.894875+09:00\n"
     ]
    }
   ],
   "source": [
    "# TODO: Get time for another specific time zone (e.g., Tokyo)\n",
    "tokyo_tz = tz.gettz('Asia/Tokyo')\n",
    "tokyo_time = datetime.now(tokyo_tz)\n",
    "print(\"Current time in Tokyo:\", tokyo_time)"
   ]
  },
  {
   "cell_type": "markdown",
   "id": "862fc5c7-5726-4b2d-a60f-42beaa337574",
   "metadata": {},
   "source": [
    "# Assignment 5: Time Left Until the End of the Lesson\n",
    "Create a program that calculates how much time is left until the end of the current lesson. The program will use a Pandas DataFrame to store the lesson schedule for the day. The user will input the start and end times of each lesson, and the program will then determine how much time remains for the ongoing lesson.\n",
    "\n",
    "Task Breakdown:\n",
    "1. Create a Pandas DataFrame to store the day's lesson schedule, including:\n",
    "- Lesson name (e.g., \"Math\").\n",
    "- Start time (in \"HH\" format).\n",
    "- End time (in \"HH\" format).\n",
    "\n",
    "2. Use the current time to identify which lesson is currently ongoing.\n",
    "3. Calculate and display the time left until the end of the ongoing lesson.\n",
    "4. If no lesson is ongoing, print a message stating that no lessons are currently in session.\n",
    "\n",
    "<b> Advanced Challenge:</b> Implement this task for your schedule at University (for the week)\n",
    "\n"
   ]
  },
  {
   "cell_type": "code",
   "execution_count": 23,
   "id": "fa345c74-decb-42b3-936d-da409a61470b",
   "metadata": {},
   "outputs": [
    {
     "data": {
      "text/html": [
       "<div>\n",
       "<style scoped>\n",
       "    .dataframe tbody tr th:only-of-type {\n",
       "        vertical-align: middle;\n",
       "    }\n",
       "\n",
       "    .dataframe tbody tr th {\n",
       "        vertical-align: top;\n",
       "    }\n",
       "\n",
       "    .dataframe thead th {\n",
       "        text-align: right;\n",
       "    }\n",
       "</style>\n",
       "<table border=\"1\" class=\"dataframe\">\n",
       "  <thead>\n",
       "    <tr style=\"text-align: right;\">\n",
       "      <th></th>\n",
       "      <th>Lesson</th>\n",
       "      <th>Start Time</th>\n",
       "      <th>End Time</th>\n",
       "    </tr>\n",
       "  </thead>\n",
       "  <tbody>\n",
       "    <tr>\n",
       "      <th>0</th>\n",
       "      <td>Math</td>\n",
       "      <td>09:00</td>\n",
       "      <td>09:45</td>\n",
       "    </tr>\n",
       "    <tr>\n",
       "      <th>1</th>\n",
       "      <td>Science</td>\n",
       "      <td>10:00</td>\n",
       "      <td>10:45</td>\n",
       "    </tr>\n",
       "    <tr>\n",
       "      <th>2</th>\n",
       "      <td>History</td>\n",
       "      <td>11:00</td>\n",
       "      <td>11:45</td>\n",
       "    </tr>\n",
       "    <tr>\n",
       "      <th>3</th>\n",
       "      <td>Programming</td>\n",
       "      <td>13:00</td>\n",
       "      <td>13:45</td>\n",
       "    </tr>\n",
       "  </tbody>\n",
       "</table>\n",
       "</div>"
      ],
      "text/plain": [
       "        Lesson Start Time End Time\n",
       "0         Math      09:00    09:45\n",
       "1      Science      10:00    10:45\n",
       "2      History      11:00    11:45\n",
       "3  Programming      13:00    13:45"
      ]
     },
     "execution_count": 23,
     "metadata": {},
     "output_type": "execute_result"
    }
   ],
   "source": [
    "import pandas as pd\n",
    "from datetime import datetime\n",
    "\n",
    "# TODO: Create a DataFrame to store the lesson schedule\n",
    "data = {\n",
    "    \"Lesson\": [\"Math\", \"Science\", \"History\", \"Programming\"],\n",
    "    \"Start Time\": [\"09:00\", \"10:00\", \"11:00\", \"13:00\"],\n",
    "    \"End Time\": [\"09:45\", \"10:45\", \"11:45\", \"13:45\"]\n",
    "}\n",
    "schedule_df = pd.DataFrame(data)\n",
    "schedule_df"
   ]
  },
  {
   "cell_type": "code",
   "execution_count": 25,
   "id": "a955e2ae-a842-4477-b266-9fd8c50e92e7",
   "metadata": {
    "tags": []
   },
   "outputs": [
    {
     "name": "stdout",
     "output_type": "stream",
     "text": [
      "The current lesson is 'Programming'. Time left: 17 minutes.\n"
     ]
    }
   ],
   "source": [
    "from datetime import timedelta\n",
    "\n",
    "# TODO: Get the current time\n",
    "now = datetime.now() # Use timedelta(hours=) for testing\n",
    "#now = now - timedelta(hours=10, minutes=45)\n",
    "\n",
    "current_time = now.strftime(\"%H:%M\")\n",
    "curr_time_obj = datetime.strptime(current_time, \"%H:%M\").time()\n",
    "\n",
    "# TODO: Identify the current ongoing lesson\n",
    "ongoing_lesson = None\n",
    "time_left = None\n",
    "\n",
    "for index, row in schedule_df.iterrows():\n",
    "    \n",
    "    start_time = datetime.strptime(row[\"Start Time\"], \"%H:%M\").time()\n",
    "    end_time = datetime.strptime(row[\"End Time\"], \"%H:%M\").time()\n",
    "\n",
    "    # Check if the current time falls within the lesson's time range\n",
    "    if (start_time <= curr_time_obj <= end_time):\n",
    "        ongoing_lesson = row[\"Lesson\"]\n",
    "        \n",
    "        # TODO: Calculate the remaining time until the lesson ends\n",
    "        lesson_end = datetime.combine(now.date(), end_time)\n",
    "        current_time_dt = datetime.combine(now.date(), curr_time_obj)\n",
    "        time_left = (lesson_end - current_time_dt).seconds // 60\n",
    "        break\n",
    "\n",
    "# TODO: Display the result\n",
    "if ongoing_lesson:\n",
    "    print(f\"The current lesson is '{ongoing_lesson}'. Time left: {time_left} minutes.\")\n",
    "else:\n",
    "    print(\"No lesson is currently in session.\")\n"
   ]
  },
  {
   "cell_type": "code",
   "execution_count": 4,
   "id": "4e246d95-56b0-4759-a526-aa9b01ab80f2",
   "metadata": {},
   "outputs": [
    {
     "name": "stdout",
     "output_type": "stream",
     "text": [
      "The current lesson is 'Phython'. Time left: 16 minutes.\n"
     ]
    }
   ],
   "source": [
    "import pandas as pd\n",
    "from datetime import datetime\n",
    "\n",
    "def det_day():\n",
    "    day = datetime.now().strftime(\"%A\") \n",
    "    \n",
    "    if day == \"Monday\":\n",
    "        return mon_schedule_df\n",
    "    elif day == \"Tuesday\":\n",
    "        return tue_schedule_df\n",
    "    elif day == \"Wednesday\":\n",
    "        return wed_schedule_df\n",
    "    elif day == \"Thursday\":\n",
    "        return thu_schedule_df\n",
    "    elif day == \"Friday\":\n",
    "        return fri_schedule_df\n",
    "    elif day == \"Saturday\":\n",
    "        return std_schedule_df\n",
    "    else:\n",
    "        print(\"No lessons cause it's Sunday today.\")\n",
    "        return\n",
    "\n",
    "def time_until_end(schedule_df):\n",
    "    now = datetime.now() \n",
    "    current_time = now.strftime(\"%H:%M\")\n",
    "    curr_time_obj = datetime.strptime(current_time, \"%H:%M\").time()\n",
    "\n",
    "    ongoing_lesson = None\n",
    "    time_left = None\n",
    "\n",
    "    for index, row in schedule_df.iterrows():\n",
    "        \n",
    "        start_time = datetime.strptime(row[\"Start Time\"], \"%H:%M\").time()\n",
    "        end_time = datetime.strptime(row[\"End Time\"], \"%H:%M\").time()\n",
    "\n",
    "        if (start_time <= curr_time_obj <= end_time):\n",
    "            ongoing_lesson = row[\"Lesson\"]\n",
    "            \n",
    "            lesson_end = datetime.combine(now.date(), end_time)\n",
    "            current_time_dt = datetime.combine(now.date(), curr_time_obj)\n",
    "            time_left = (lesson_end - current_time_dt).seconds // 60\n",
    "            break\n",
    "\n",
    "    if ongoing_lesson:\n",
    "        print(f\"The current lesson is '{ongoing_lesson}'. Time left: {time_left} minutes.\")\n",
    "    else:\n",
    "        print(\"No lesson is currently in session.\")\n",
    "\n",
    "# main section \n",
    "if __name__==\"__main__\":\n",
    "\n",
    "    Monday = {\n",
    "        \"Lesson\": [\"Math.Analysis\", \"Comp.Graphic\", \"Phython\"],\n",
    "        \"Start Time\": [\"09:50\", \"11:40\", \"13:30\"],\n",
    "        \"End Time\": [\"11:25\", \"13:15\", \"15:05\"]\n",
    "    }\n",
    "    Tuesday = {\n",
    "        \"Lesson\": [\"Phisics\", \"Python\", \"Math.Analysis\", \"Comp.Graphic\"],\n",
    "        \"Start Time\": [\"08:00\", \"09:50\", \"11:40\", \"13:30\"],\n",
    "        \"End Time\": [\"09:35\", \"11:25\", \"13:15\", \"15:05\"]\n",
    "    }\n",
    "    Wedneday = {\n",
    "        \"Lesson\": [\"Prog.lang C\", \"Alghoritms\", \"Math.Analysis\"],\n",
    "        \"Start Time\": [\"09:50\", \"11:40\", \"13:30\"],\n",
    "        \"End Time\": [\"11:25\", \"13:15\", \"15:05\"]\n",
    "    }\n",
    "    Thurday = {\n",
    "        \"Lesson\": [\"Phisics\", \"Comp.Graphic\", \"Theory of Probability\", \"Theory of Probability\"],\n",
    "        \"Start Time\": [\"09:50\", \"11:40\", \"13:30\", \"15:20\"],\n",
    "        \"End Time\": [\"11:25\", \"13:15\", \"15:05\", \"16:55\"]\n",
    "    }\n",
    "    Friday = {\n",
    "        \"Lesson\": [\"Prog.lang C\", \"Alghoritms\", \"Alghoritms\", \"Theory of Probability\"],\n",
    "        \"Start Time\": [\"08:00\", \"09:50\", \"11:40\", \"13:30\"],\n",
    "        \"End Time\": [\"09:35\", \"11:25\", \"13:15\", \"15:05\"]\n",
    "    }\n",
    "    Saturday = {\n",
    "        \"Lesson\": [\"Alghoritms\", \"Prog.lang C\", \"Theory of Probability\", \"Math.Analysis\", \"Python\"],\n",
    "        \"Start Time\": [\"08:00\", \"09:50\", \"11:40\", \"13:30\", \"15:20\"],\n",
    "        \"End Time\": [\"09:35\", \"11:25\", \"13:15\", \"15:05\", \"16:55\"]\n",
    "    }\n",
    "\n",
    "    mon_schedule_df = pd.DataFrame(Monday)\n",
    "    tue_schedule_df = pd.DataFrame(Tuesday)\n",
    "    wed_schedule_df = pd.DataFrame(Wedneday)\n",
    "    thu_schedule_df = pd.DataFrame(Thurday)\n",
    "    fri_schedule_df = pd.DataFrame(Friday)\n",
    "    std_schedule_df = pd.DataFrame(Saturday)\n",
    "\n",
    "    schedule_df = det_day()\n",
    "    time_until_end(schedule_df)\n"
   ]
  },
  {
   "cell_type": "code",
   "execution_count": null,
   "id": "2725a7e0",
   "metadata": {},
   "outputs": [],
   "source": []
  }
 ],
 "metadata": {
  "kernelspec": {
   "display_name": "Python 3 (ipykernel)",
   "language": "python",
   "name": "python3"
  },
  "language_info": {
   "codemirror_mode": {
    "name": "ipython",
    "version": 3
   },
   "file_extension": ".py",
   "mimetype": "text/x-python",
   "name": "python",
   "nbconvert_exporter": "python",
   "pygments_lexer": "ipython3",
   "version": "3.12.2"
  }
 },
 "nbformat": 4,
 "nbformat_minor": 5
}
